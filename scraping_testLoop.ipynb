{
 "cells": [
  {
   "cell_type": "code",
   "execution_count": 147,
   "metadata": {},
   "outputs": [],
   "source": [
    "import requests\n",
    "from bs4 import BeautifulSoup\n",
    "import calendar\n",
    "import pandas as pd\n",
    "import math\n",
    "from re import search\n",
    "import random\n",
    "import time\n",
    "\n",
    "#--functions------------------------------------------------------------------------------------\n",
    "\n",
    "def build_empty_df_for_month(m_int,y_int):\n",
    "    \"\"\"initialize dataframe to store hourly event data for a month\"\"\"\n",
    "    num_days = calendar.monthrange(y_int,m_int)[1] #gives total number of days in the month\n",
    "\n",
    "    df_m = pd.DataFrame(columns=pd.Series(range(0,24))) #24 columns for each hr\n",
    "    \n",
    "    dayMonth_strings=[]\n",
    "    for ii in range(1,num_days+1): #loop over days in month\n",
    "        #dayString=month_day_yearStr(month_int,ii,year)\n",
    "        new_index=month_day_yearStr(m_int,ii,y_int) #string of the form Jan1.2019\n",
    "        #df_m=df_m.append( [new_index] ) #add index (row) to df and 24 columns for hrs\n",
    "        dayMonth_strings.append(new_index)\n",
    "    df_m = pd.DataFrame(index=dayMonth_strings,columns=pd.Series(range(0,24))) #24 columns for each hr\n",
    "    return df_m\n",
    "\n",
    "def conv_ampm_to_twentyFourHrString(string1):\n",
    "    \"\"\"Converts 12hr time to 24hr time, e.g. 11:00pm-->23:00,11:00am-->11:00\"\"\"\n",
    "    conv_t=0\n",
    "    if( \"am\" in string1  ): #am\n",
    "        conv_t=string1[0:len(string1)-2]\n",
    "    elif( \"pm\" in string1  ): #pm\n",
    "        starthr=int(string1.split(':')[0])\n",
    "        if(starthr==12):\n",
    "            conv_t=string1.strip('pm') #grab 12:00pm as 12:00\n",
    "        else:\n",
    "            conv_t=str(starthr+12)+\":\"+string1.split(':')[1]#+12hr for any other pm time\n",
    "            conv_t=conv_t.strip('pm')\n",
    "    else:  #\n",
    "        raise ValueError('am or pm time not provided to conv_to_twentyFourHr')\n",
    "    return conv_t\n",
    "\n",
    "def fill_df_forMonth_wEvents(m_int,y_int):\n",
    "    \"\"\"return df of events for a month\"\"\"\n",
    "    df_fill = build_empty_df_for_month(m_int,y_int)#empty df for month\n",
    "    num=calendar.monthrange(y_int,m_int)[1] #gives total number of days in the month\n",
    "    \n",
    "    for d_int in range(1,num+1): #loop over days for month\n",
    "        \n",
    "        fill_events=webscrape_forexFactory_page(m_int,d_int,y_int) #events for a day\n",
    "        md_string = month_day_yearStr(m_int,d_int,y_int) #month day string   \n",
    "        if( fill_events is not None ):\n",
    "            for ff in range(0,len(fill_events.columns)): #parse the events and fill df\n",
    "                fill_time = str.split(fill_events.iloc[0][ff],':')[0]\n",
    "                fill_hr = math.floor( int(fill_time) )\n",
    "                fill_curr = fill_events.iloc[1][ff]  \n",
    "                if( pd.isna(df_fill.at[md_string,fill_hr]) ):\n",
    "                    df_fill.loc[md_string,fill_hr]=fill_curr #\n",
    "                elif( (fill_curr in df_fill.loc[md_string,fill_hr])==False ) : #dont have currency recorded yet\n",
    "                    df_fill.loc[md_string,fill_hr]=df_fill.loc[md_string,fill_hr]+','+fill_curr #append currency event\n",
    "            time.sleep( random.uniform(0.21,3.18) ) # random sleep to not overwhelm with requests\n",
    "            \n",
    "    return df_fill\n",
    "\n",
    "def monthInt_toStr(m_int):\n",
    "    \"\"\"write string function to convert integer to month string for webpage\"\"\"\n",
    "    m_string = \"\"\n",
    "    if( isinstance(m_int,int) and m_int>=1 and m_int<=12 ):# of integer type\n",
    "        m_table = pd.Series( {1:'Jan',2:'Feb',3:'Mar',4:'Apr',5:'May',6:'June',7:'Jul',8:'Aug',9:'Sep',10:'Oct',11:'Nov',12:'Dec'} )\n",
    "        m_string = m_table[m_int][:]# three-letter month string        \n",
    "    else:\n",
    "        raise ValueError(\"month must be an integer of value 1-12\")\n",
    "    return m_string \n",
    "\n",
    "def month_day_yearStr(month_int,day_int,year_int):\n",
    "    \"\"\"make string in format e.g Jan5.2020\"\"\"\n",
    "    mdy_str = monthInt_toStr(month_int)+str(day_int)+ '.' +str(year_int)\n",
    "    return mdy_str\n",
    "\n",
    "def webscrape_forexFactory_page(websc_month,websc_day,websc_year):\n",
    "    \"\"\"Scrape www.forexfactory.com/calendar for currency events for a particular day\"\"\"\n",
    "    \n",
    "    #--requests header\n",
    "    accept='text/html, application/xhtml+xml, application/xml; q=0.9, */*; q=0.8'\n",
    "    acceptEncoding='gzip, deflate, br'\n",
    "    acceptLanguage='en-US, en; q=0.5'\n",
    "    #cookie offset to 0 for GMT time\n",
    "    cookie='ffsessionhash=2632135f2eb04c765c611ae5d04a5ff3; ffverifytimes=1; fflastactivity=0; fftab-history=calendar; ffsettingshash=c1cc05f4bc2c72fba054db520e06352e; fflastvisit=1585371911; fftimeformat=0; ffdstonoff=1; fftimezoneoffset=-6; fftimezoneoffset=0; ffadon=1; __gads=ID=301618e0d651417d:T=1585371912:S=ALNI_MbN44mE7AAy1nrXhmvqaG7M_7vzig; _gid=GA1.2.69885615.1585371918; _ga=GA1.2.1633801945.1585371918; _gat_gtag_UA_3311429_1=1'\n",
    "    #old cookie='ffverifytimes=1; fflastactivity=0; fftab-history=calendar%2Cforums; ffsettingshash=c1cc05f4bc2c72fba054db520e06352e; fflastvisit=1585371911; ffdstonoff=1; fftimezoneoffset=0; ffadon=1; __gads=ID=301618e0d651417d:T=1585371912:S=ALNI_MbN44mE7AAy1nrXhmvqaG7M_7vzig; _gid=GA1.2.69885615.1585371918; _ga=GA1.2.1633801945.1585371918'\n",
    "    useragent='Mozilla/5.0 (Windows NT 10.0; Win64; x64) AppleWebKit/537.36 (KHTML, like Gecko) Chrome/70.0.3538.102 Safari/537.36 Edge/18.18363'\n",
    "    host='www.forexfactory.com'\n",
    "    connection='close'#'Keep-Alive'\n",
    "    upgrade='1'\n",
    "    head = {'User-Agent': useragent,'Host':host,'Connection':connection,'Accept-Encoding':acceptEncoding,'Accept-Language':acceptLanguage,'Accept':accept,'Cookie':cookie,'Upgrade-Insecure-Requests':upgrade}\n",
    "\n",
    "    websc = monthInt_toStr(websc_month)+str(websc_day)+ '.' +str(websc_year) #build string for url\n",
    "    #old webstring=\"https://www.forexfactory.com/calendar.php?day=\"+websc\n",
    "    webstring=\"https://www.forexfactory.com/calendar?day=\"+websc\n",
    "    print(\"webstring=\",webstring)\n",
    "    \n",
    "    page = requests.get(webstring,head) #scrape page\n",
    "    content = page.content\n",
    "    soup = BeautifulSoup(content,\"html.parser\")\n",
    "    table = soup.find_all(\"tr\",{\"class\":\"calendar_row\"})\n",
    "    #s=requests.Session()\n",
    "    #s.max_redirects = 60\n",
    "    #s.headers = {'User-Agent': 'My App'}\n",
    "    #websc = monthInt_toStr(websc_month)+str(websc_day)+ '.' +str(websc_year)\n",
    "    #webstring=\"https://www.forexfactory.com/calendar.php?day=\"+websc\n",
    "    #print(\"webstring=\",webstring)\n",
    "    #page = s.get(webstring) #page scraping\n",
    "    #content = page.content\n",
    "    #soup = BeautifulSoup(content,\"html.parser\")\n",
    "    #table = soup.find_all(\"tr\",{\"class\":\"calendar_row\"})\n",
    "\n",
    "    curr = []\n",
    "    times = []\n",
    "    timeString=\"\"\n",
    "    for item in table:\n",
    "        currency=item.find_all(\"td\", {\"class\":\"calendar__currency\"})[0].text #currency\n",
    "        currency=currency.strip('\\n') #removes both front and back \\n \n",
    "        currency=currency.replace(\" \",\"\")\n",
    "        time_entry=item.find_all(\"td\", {\"class\":\"calendar__time\"})[0].text #time (may have more than one entry)\n",
    "        #print(\"time_entry=\",time_entry)\n",
    "        #print(\"currency=\",currency)\n",
    "        #print(\"len(currency)=\",len(currency))\n",
    "        #print(\"len(time_entry)=\",len(time_entry))\n",
    "        if( time_entry=='All Day' or ('Day' in time_entry)==True or ('Data' in time_entry)==True ): #Day 1 for e.g. elections\n",
    "            time_entry='00:00' #All day events at start of day\n",
    "        elif( len(time_entry)==0 and len(currency)>0 ):  #empty string for time\n",
    "            time_entry=timeString #previous time\n",
    "        elif( len(time_entry)>0 and len(currency)>0 ):\n",
    "            time_entry=conv_ampm_to_twentyFourHrString(time_entry)\n",
    "            timeString=time_entry\n",
    "        else:\n",
    "            return #returns none, no events for that day\n",
    "        curr.append(currency)\n",
    "        times.append(time_entry)  \n",
    "    #return pd.DataFrame([times,curr]).transpose()\n",
    "    return pd.DataFrame([times,curr])\n",
    "\n",
    "#-------------------------------------------------------------------\n",
    "\n",
    "\n",
    "#page = requests.get(\"https://www.forexfactory.com/calendar.php?day=Mar22.2020\",head) #sample page\n",
    "#content = page.content\n",
    "#soup = BeautifulSoup(content,\"html.parser\")\n",
    "#table = soup.find_all(\"tr\",{\"class\":\"calendar_row\"})\n",
    "#time=99\n",
    "#for item in table:\n",
    "#    currency=item.find_all(\"td\", {\"class\":\"calendar__currency\"})[0].text #currency\n",
    "#    time_entry=item.find_all(\"td\", {\"class\":\"calendar__time\"})[0].text #time (may have more than one entry)\n",
    "#    print( \"currency=\"+currency ) #Currency\n",
    "#    print( \"time_entry=\",time_entry ) #Time Eastern"
   ]
  },
  {
   "cell_type": "markdown",
   "metadata": {},
   "source": [
    "Append some data data and keep appending"
   ]
  },
  {
   "cell_type": "code",
   "execution_count": 44,
   "metadata": {},
   "outputs": [
    {
     "name": "stdout",
     "output_type": "stream",
     "text": [
      "webstring= https://www.forexfactory.com/calendar?day=May6.2019\n"
     ]
    }
   ],
   "source": [
    "df_events_log = pd.DataFrame()\n",
    "a=webscrape_forexFactory_page(5,6,2019)"
   ]
  },
  {
   "cell_type": "code",
   "execution_count": 45,
   "metadata": {},
   "outputs": [
    {
     "name": "stdout",
     "output_type": "stream",
     "text": [
      "      0      1     2     3     4     5     6     7     8      9     10     11  \\\n",
      "0  3:00  00:00  3:15  3:45  3:50  3:55  4:00  4:30  5:00  13:45  14:00  18:30   \n",
      "1   EUR    GBP   EUR   EUR   EUR   EUR   EUR   EUR   EUR    CAD    USD    AUD   \n",
      "\n",
      "      12     13     14     15  \n",
      "0  20:30  21:30  21:30  23:00  \n",
      "1    JPY    AUD    AUD    NZD  \n"
     ]
    }
   ],
   "source": [
    "df_events_log.append(a)\n",
    "print(df_events_log.append(a))"
   ]
  },
  {
   "cell_type": "code",
   "execution_count": 4,
   "metadata": {},
   "outputs": [],
   "source": [
    "b=webscrape_forexFactory_page(5,6,2019)"
   ]
  },
  {
   "cell_type": "code",
   "execution_count": 5,
   "metadata": {},
   "outputs": [],
   "source": [
    "df_events_log=df_events_log.append(b)"
   ]
  },
  {
   "cell_type": "code",
   "execution_count": 12,
   "metadata": {},
   "outputs": [
    {
     "name": "stdout",
     "output_type": "stream",
     "text": [
      "      0      1     2     3     4     5     6     7     8      9     10     11  \\\n",
      "0  3:00  00:00  3:15  3:45  3:50  3:55  4:00  4:30  5:00  13:45  14:00  18:30   \n",
      "1   EUR    GBP   EUR   EUR   EUR   EUR   EUR   EUR   EUR    CAD    USD    AUD   \n",
      "\n",
      "      12     13     14     15  \n",
      "0  20:30  21:30  21:30  23:00  \n",
      "1    JPY    AUD    AUD    NZD  \n"
     ]
    }
   ],
   "source": [
    "print(df_events_log)"
   ]
  },
  {
   "cell_type": "markdown",
   "metadata": {},
   "source": [
    "Save this data to '.csv'"
   ]
  },
  {
   "cell_type": "code",
   "execution_count": 6,
   "metadata": {},
   "outputs": [],
   "source": [
    "df_events_log.to_csv('df_events_log.csv',header=False,index=False)"
   ]
  },
  {
   "cell_type": "markdown",
   "metadata": {},
   "source": [
    "Looping for May, 2019"
   ]
  },
  {
   "cell_type": "code",
   "execution_count": 148,
   "metadata": {},
   "outputs": [
    {
     "name": "stdout",
     "output_type": "stream",
     "text": [
      "webstring= https://www.forexfactory.com/calendar?day=Feb1.2019\n",
      "webstring= https://www.forexfactory.com/calendar?day=Feb2.2019\n",
      "webstring= https://www.forexfactory.com/calendar?day=Feb3.2019\n",
      "webstring= https://www.forexfactory.com/calendar?day=Feb4.2019\n",
      "webstring= https://www.forexfactory.com/calendar?day=Feb5.2019\n",
      "webstring= https://www.forexfactory.com/calendar?day=Feb6.2019\n",
      "webstring= https://www.forexfactory.com/calendar?day=Feb7.2019\n",
      "webstring= https://www.forexfactory.com/calendar?day=Feb8.2019\n",
      "webstring= https://www.forexfactory.com/calendar?day=Feb9.2019\n",
      "webstring= https://www.forexfactory.com/calendar?day=Feb10.2019\n",
      "webstring= https://www.forexfactory.com/calendar?day=Feb11.2019\n",
      "webstring= https://www.forexfactory.com/calendar?day=Feb12.2019\n",
      "webstring= https://www.forexfactory.com/calendar?day=Feb13.2019\n",
      "webstring= https://www.forexfactory.com/calendar?day=Feb14.2019\n",
      "webstring= https://www.forexfactory.com/calendar?day=Feb15.2019\n",
      "webstring= https://www.forexfactory.com/calendar?day=Feb16.2019\n",
      "webstring= https://www.forexfactory.com/calendar?day=Feb17.2019\n",
      "webstring= https://www.forexfactory.com/calendar?day=Feb18.2019\n",
      "webstring= https://www.forexfactory.com/calendar?day=Feb19.2019\n",
      "webstring= https://www.forexfactory.com/calendar?day=Feb20.2019\n",
      "webstring= https://www.forexfactory.com/calendar?day=Feb21.2019\n",
      "webstring= https://www.forexfactory.com/calendar?day=Feb22.2019\n",
      "webstring= https://www.forexfactory.com/calendar?day=Feb23.2019\n",
      "webstring= https://www.forexfactory.com/calendar?day=Feb24.2019\n",
      "webstring= https://www.forexfactory.com/calendar?day=Feb25.2019\n",
      "webstring= https://www.forexfactory.com/calendar?day=Feb26.2019\n",
      "webstring= https://www.forexfactory.com/calendar?day=Feb27.2019\n",
      "webstring= https://www.forexfactory.com/calendar?day=Feb28.2019\n"
     ]
    }
   ],
   "source": [
    "df_test = fill_df_forMonth_wEvents(2,2019)"
   ]
  },
  {
   "cell_type": "code",
   "execution_count": 149,
   "metadata": {},
   "outputs": [],
   "source": [
    "#write data to csv\n",
    "df_test.to_csv('Feb.2019.csv',header=True,index=True)"
   ]
  },
  {
   "cell_type": "code",
   "execution_count": 134,
   "metadata": {},
   "outputs": [
    {
     "name": "stdout",
     "output_type": "stream",
     "text": [
      "CHF,EUR,USD\n"
     ]
    }
   ],
   "source": [
    "#read data back in\n",
    "myDir='C:/Users/cx5313nj/OneDrive - MNSCU/Desktop/coding2020/webscraping/'\n",
    "fullPath = myDir+'Apr.2019.csv'\n",
    "df_read=pd.read_csv(fullPath,index_col=0)\n",
    "#print(df_read)\n",
    "print(df_read.loc['May1.2019'][0])"
   ]
  },
  {
   "cell_type": "code",
   "execution_count": 150,
   "metadata": {},
   "outputs": [
    {
     "name": "stdout",
     "output_type": "stream",
     "text": [
      "                 0    1        2        3        4        5        6    7   \\\n",
      "Feb1.2019       USD  AUD      CHF  CHF,EUR  EUR,CHF  EUR,GBP      EUR  NaN   \n",
      "Feb2.2019       NaN  NaN      NaN      NaN      NaN      NaN      NaN  NaN   \n",
      "Feb3.2019       CNY  NaN      NaN      NaN      NaN      NaN      NaN  NaN   \n",
      "Feb4.2019       CNY  NaN      NaN      NaN      EUR  EUR,GBP      EUR  NaN   \n",
      "Feb5.2019   NZD,CNY  NaN      NaN      NaN      EUR  EUR,GBP      EUR  NaN   \n",
      "Feb6.2019       CNY  NaN      NaN      EUR      NaN      NaN      NaN  NaN   \n",
      "Feb7.2019       CNY  JPY      NaN      EUR  CHF,GBP      EUR      EUR  NaN   \n",
      "Feb8.2019       NaN  JPY      CHF      EUR      NaN      EUR      NaN  NaN   \n",
      "Feb9.2019       NaN  NaN      NaN      NaN      NaN      NaN      NaN  NaN   \n",
      "Feb10.2019      JPY  NaN      NaN      NaN      NaN      NaN      NaN  NaN   \n",
      "Feb11.2019      EUR  NaN      NaN      CHF      NaN      GBP      NaN  NaN   \n",
      "Feb12.2019      EUR  JPY      NaN      NaN      EUR      NaN      NaN  NaN   \n",
      "Feb13.2019      NaN  NaN      NaN      NaN      NaN      GBP      EUR  NaN   \n",
      "Feb14.2019      NaN  NaN      CNY  EUR,CHF      NaN      GBP  EUR,GBP  NaN   \n",
      "Feb15.2019      NaN  NaN      NaN      CNY      NaN  EUR,GBP      EUR  NaN   \n",
      "Feb16.2019      NaN  NaN      NaN      NaN      NaN      NaN      NaN  NaN   \n",
      "Feb17.2019      NaN  NaN      NaN      NaN      NaN      NaN      NaN  NaN   \n",
      "Feb18.2019      USD  NaN      NaN      NaN      NaN      NaN      NaN  EUR   \n",
      "Feb19.2019      NaN  NaN      NaN      CHF      NaN  EUR,GBP      EUR  NaN   \n",
      "Feb20.2019      NaN  NaN      NaN      EUR      NaN      NaN      NaN  GBP   \n",
      "Feb21.2019      NaN  NaN      NaN      EUR      EUR  EUR,GBP      NaN  NaN   \n",
      "Feb22.2019      NaN  NaN      NaN      EUR      NaN      EUR      EUR  GBP   \n",
      "Feb23.2019      NaN  NaN      NaN      NaN      NaN      NaN      NaN  NaN   \n",
      "Feb24.2019      NaN  NaN      NaN      NaN      NaN      NaN      NaN  NaN   \n",
      "Feb25.2019      NaN  NaN      NaN      NaN      NaN      NaN      GBP  NaN   \n",
      "Feb26.2019      NaN  JPY      NaN      EUR      NaN      NaN      GBP  NaN   \n",
      "Feb27.2019      NaN  NaN      NaN      NaN      NaN  CHF,EUR      EUR  NaN   \n",
      "Feb28.2019      EUR  JPY  CHF,GBP      EUR  CHF,EUR      NaN      EUR  NaN   \n",
      "\n",
      "             8        9   ...   14       15   16       17   18       19  \\\n",
      "Feb1.2019   NaN      USD  ...  NaN      NaN  NaN      NaN  NaN      NaN   \n",
      "Feb2.2019   NaN      NaN  ...  NaN      NaN  NaN      NaN  NaN      NaN   \n",
      "Feb3.2019   NaN      NaN  ...  NaN      NaN  NaN      NZD  NaN      JPY   \n",
      "Feb4.2019   NaN      NaN  ...  NaN      USD  NaN      AUD  NaN      NaN   \n",
      "Feb5.2019   NaN      NaN  ...  NaN      NaN  NaN      NaN  NaN      NaN   \n",
      "Feb6.2019   NaN  CAD,USD  ...  USD      NaN  NaN  AUD,NZD  NaN      USD   \n",
      "Feb7.2019   GBP      USD  ...  USD      NaN  USD      NaN  NaN      JPY   \n",
      "Feb8.2019   NaN      CAD  ...  NaN      NaN  NaN      NaN  NaN      NaN   \n",
      "Feb9.2019   NaN      NaN  ...  NaN      NaN  NaN      NaN  NaN      NaN   \n",
      "Feb10.2019  NaN      NaN  ...  NaN      NaN  NaN      NaN  NaN      NaN   \n",
      "Feb11.2019  NaN      GBP  ...  NaN      NaN  NaN      NaN  NaN      JPY   \n",
      "Feb12.2019  NaN      GBP  ...  NaN      NaN  NaN      NaN  NaN  AUD,JPY   \n",
      "Feb13.2019  NaN      USD  ...  NaN  USD,NZD  NaN      NZD  NaN      JPY   \n",
      "Feb14.2019  NaN  CAD,USD  ...  NaN      NaN  AUD      NZD  NaN      NaN   \n",
      "Feb15.2019  NaN  CAD,USD  ...  NaN      NaN  NaN      USD  NaN      NaN   \n",
      "Feb16.2019  NaN      NaN  ...  NaN      NaN  NaN      NaN  NaN      NaN   \n",
      "Feb17.2019  NaN      NaN  ...  NaN      NaN  NaN      NaN  NaN      JPY   \n",
      "Feb18.2019  NaN      NaN  ...  NaN      NaN  NaN      NaN  NaN      NaN   \n",
      "Feb19.2019  NaN      NaN  ...  NaN      NaN  NaN      NZD  NaN  AUD,JPY   \n",
      "Feb20.2019  NaN      NaN  ...  NaN      USD  NaN      NaN  AUD      NaN   \n",
      "Feb21.2019  EUR  CAD,USD  ...  NaN      NaN  NaN      NaN  AUD      JPY   \n",
      "Feb22.2019  NaN  CAD,EUR  ...  USD      NaN  NaN      NaN  USD      NaN   \n",
      "Feb23.2019  NaN      NaN  ...  NaN      NaN  NaN      NaN  NaN      NaN   \n",
      "Feb24.2019  NaN      NaN  ...  NaN      NaN  NaN      NZD  NaN      JPY   \n",
      "Feb25.2019  NaN      NaN  ...  NaN      NaN  NaN      NaN  NaN      USD   \n",
      "Feb26.2019  NaN  USD,CAD  ...  NaN      NaN  NaN      NZD  NaN      NaN   \n",
      "Feb27.2019  NaN  CAD,USD  ...  NaN      NaN  NaN      NaN  NaN      JPY   \n",
      "Feb28.2019  NaN  USD,CAD  ...  NaN      NaN  NaN  AUD,NZD  NaN      JPY   \n",
      "\n",
      "                         20       21   22       23  \n",
      "Feb1.2019               NaN      NaN  NaN      NaN  \n",
      "Feb2.2019               NaN      CNY  NaN      NaN  \n",
      "Feb3.2019               AUD      NaN  NaN      NaN  \n",
      "Feb4.2019       NZD,GBP,AUD      NaN  NaN  AUD,JPY  \n",
      "Feb5.2019               NaN      AUD  USD      NaN  \n",
      "Feb6.2019           USD,AUD      NaN  NaN      JPY  \n",
      "Feb7.2019           AUD,USD      NaN  NaN      NaN  \n",
      "Feb8.2019               NaN      NaN  NaN      NaN  \n",
      "Feb9.2019               NaN      NaN  NaN      NaN  \n",
      "Feb10.2019              NaN      NaN  NaN      NaN  \n",
      "Feb11.2019          USD,AUD      NaN  NZD      NaN  \n",
      "Feb12.2019              USD      NZD  NZD      NaN  \n",
      "Feb13.2019          GBP,AUD      NaN  NaN      CNY  \n",
      "Feb14.2019              NaN      CNY  NaN      NaN  \n",
      "Feb15.2019              NaN      NaN  NaN      NaN  \n",
      "Feb16.2019              NaN      NaN  NaN      NaN  \n",
      "Feb17.2019              GBP      NaN  NaN      NaN  \n",
      "Feb18.2019              AUD      NaN  NaN      NaN  \n",
      "Feb19.2019              AUD      NaN  NaN      NaN  \n",
      "Feb20.2019          AUD,JPY      NaN  NaN      NaN  \n",
      "Feb21.2019              NaN      NZD  NaN      NaN  \n",
      "Feb22.2019              NaN      NaN  NaN      NaN  \n",
      "Feb23.2019              NaN      NaN  NaN      NaN  \n",
      "Feb24.2019              NaN      NaN  NaN      NaN  \n",
      "Feb25.2019              NaN      NaN  NaN      NaN  \n",
      "Feb26.2019          GBP,AUD      NaN  NaN      NaN  \n",
      "Feb27.2019  NZD,GBP,AUD,CNY      CNY  NaN      NaN  \n",
      "Feb28.2019              JPY  USD,CNY  NaN      NaN  \n",
      "\n",
      "[28 rows x 24 columns]\n"
     ]
    }
   ],
   "source": [
    "print(df_test)"
   ]
  },
  {
   "cell_type": "code",
   "execution_count": 146,
   "metadata": {},
   "outputs": [
    {
     "name": "stdout",
     "output_type": "stream",
     "text": [
      "1\n",
      "2\n",
      "3\n",
      "4\n",
      "5\n",
      "6\n",
      "7\n",
      "8\n",
      "9\n",
      "10\n",
      "11\n",
      "12\n",
      "13\n",
      "14\n",
      "15\n",
      "16\n",
      "17\n",
      "18\n",
      "19\n",
      "20\n",
      "21\n",
      "22\n",
      "23\n",
      "24\n",
      "25\n",
      "26\n",
      "27\n",
      "28\n",
      "29\n"
     ]
    }
   ],
   "source": [
    "for ii in range(1,30):\n",
    "    print(ii)"
   ]
  },
  {
   "cell_type": "code",
   "execution_count": null,
   "metadata": {},
   "outputs": [],
   "source": []
  }
 ],
 "metadata": {
  "kernelspec": {
   "display_name": "Python 3",
   "language": "python",
   "name": "python3"
  },
  "language_info": {
   "codemirror_mode": {
    "name": "ipython",
    "version": 3
   },
   "file_extension": ".py",
   "mimetype": "text/x-python",
   "name": "python",
   "nbconvert_exporter": "python",
   "pygments_lexer": "ipython3",
   "version": "3.7.4"
  }
 },
 "nbformat": 4,
 "nbformat_minor": 2
}
