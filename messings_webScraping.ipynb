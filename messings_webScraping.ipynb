{
 "cells": [
  {
   "cell_type": "code",
   "execution_count": 1,
   "metadata": {},
   "outputs": [],
   "source": [
    "import pandas as pd\n",
    "import numpy as np"
   ]
  },
  {
   "cell_type": "code",
   "execution_count": 2,
   "metadata": {},
   "outputs": [
    {
     "name": "stdout",
     "output_type": "stream",
     "text": [
      "{'CAD', 'USD', 'JPY', 'EUR'}\n"
     ]
    },
    {
     "data": {
      "text/html": [
       "<div>\n",
       "<style scoped>\n",
       "    .dataframe tbody tr th:only-of-type {\n",
       "        vertical-align: middle;\n",
       "    }\n",
       "\n",
       "    .dataframe tbody tr th {\n",
       "        vertical-align: top;\n",
       "    }\n",
       "\n",
       "    .dataframe thead th {\n",
       "        text-align: right;\n",
       "    }\n",
       "</style>\n",
       "<table border=\"1\" class=\"dataframe\">\n",
       "  <thead>\n",
       "    <tr style=\"text-align: right;\">\n",
       "      <th></th>\n",
       "      <th>0</th>\n",
       "    </tr>\n",
       "  </thead>\n",
       "  <tbody>\n",
       "    <tr>\n",
       "      <td>0</td>\n",
       "      <td>CAD</td>\n",
       "    </tr>\n",
       "    <tr>\n",
       "      <td>1</td>\n",
       "      <td>USD</td>\n",
       "    </tr>\n",
       "    <tr>\n",
       "      <td>2</td>\n",
       "      <td>JPY</td>\n",
       "    </tr>\n",
       "    <tr>\n",
       "      <td>3</td>\n",
       "      <td>EUR</td>\n",
       "    </tr>\n",
       "  </tbody>\n",
       "</table>\n",
       "</div>"
      ],
      "text/plain": [
       "     0\n",
       "0  CAD\n",
       "1  USD\n",
       "2  JPY\n",
       "3  EUR"
      ]
     },
     "execution_count": 2,
     "metadata": {},
     "output_type": "execute_result"
    }
   ],
   "source": [
    "eur = {'EUR','USD','CAD','JPY'}\n",
    "#df = pd.DataFrame(columns='EUR','USD','CAD','JPY'}\n",
    "print(eur)\n",
    "df = pd.DataFrame(eur)\n",
    "df[0]['EUR']=3\n",
    "df.head()"
   ]
  },
  {
   "cell_type": "code",
   "execution_count": 3,
   "metadata": {},
   "outputs": [
    {
     "name": "stdout",
     "output_type": "stream",
     "text": [
      "0    1\n",
      "1    2\n",
      "2    3\n",
      "dtype: int64\n"
     ]
    }
   ],
   "source": [
    "a = pd.Series([1,2,3])\n",
    "print(a)"
   ]
  },
  {
   "cell_type": "code",
   "execution_count": 4,
   "metadata": {},
   "outputs": [
    {
     "data": {
      "text/html": [
       "<div>\n",
       "<style scoped>\n",
       "    .dataframe tbody tr th:only-of-type {\n",
       "        vertical-align: middle;\n",
       "    }\n",
       "\n",
       "    .dataframe tbody tr th {\n",
       "        vertical-align: top;\n",
       "    }\n",
       "\n",
       "    .dataframe thead th {\n",
       "        text-align: right;\n",
       "    }\n",
       "</style>\n",
       "<table border=\"1\" class=\"dataframe\">\n",
       "  <thead>\n",
       "    <tr style=\"text-align: right;\">\n",
       "      <th></th>\n",
       "      <th>Mar23</th>\n",
       "    </tr>\n",
       "  </thead>\n",
       "  <tbody>\n",
       "    <tr>\n",
       "      <td>EUR</td>\n",
       "      <td>1</td>\n",
       "    </tr>\n",
       "    <tr>\n",
       "      <td>USD</td>\n",
       "      <td>2</td>\n",
       "    </tr>\n",
       "    <tr>\n",
       "      <td>AUD</td>\n",
       "      <td>3</td>\n",
       "    </tr>\n",
       "  </tbody>\n",
       "</table>\n",
       "</div>"
      ],
      "text/plain": [
       "     Mar23\n",
       "EUR      1\n",
       "USD      2\n",
       "AUD      3"
      ]
     },
     "execution_count": 4,
     "metadata": {},
     "output_type": "execute_result"
    }
   ],
   "source": [
    "df_events = pd.DataFrame(index=['EUR','USD','AUD']) #rows of df\n",
    "df_events.loc[:,'Mar23']=pd.Series([1,2,3],index=df_events.index) #adds new column\n",
    "df_events"
   ]
  },
  {
   "cell_type": "code",
   "execution_count": 5,
   "metadata": {},
   "outputs": [
    {
     "data": {
      "text/html": [
       "<div>\n",
       "<style scoped>\n",
       "    .dataframe tbody tr th:only-of-type {\n",
       "        vertical-align: middle;\n",
       "    }\n",
       "\n",
       "    .dataframe tbody tr th {\n",
       "        vertical-align: top;\n",
       "    }\n",
       "\n",
       "    .dataframe thead th {\n",
       "        text-align: right;\n",
       "    }\n",
       "</style>\n",
       "<table border=\"1\" class=\"dataframe\">\n",
       "  <thead>\n",
       "    <tr style=\"text-align: right;\">\n",
       "      <th></th>\n",
       "      <th>1</th>\n",
       "      <th>2</th>\n",
       "      <th>3</th>\n",
       "    </tr>\n",
       "  </thead>\n",
       "  <tbody>\n",
       "    <tr>\n",
       "      <td>EUR</td>\n",
       "      <td>NaN</td>\n",
       "      <td>NaN</td>\n",
       "      <td>NaN</td>\n",
       "    </tr>\n",
       "    <tr>\n",
       "      <td>USD</td>\n",
       "      <td>NaN</td>\n",
       "      <td>NaN</td>\n",
       "      <td>NaN</td>\n",
       "    </tr>\n",
       "    <tr>\n",
       "      <td>AUD</td>\n",
       "      <td>NaN</td>\n",
       "      <td>NaN</td>\n",
       "      <td>NaN</td>\n",
       "    </tr>\n",
       "  </tbody>\n",
       "</table>\n",
       "</div>"
      ],
      "text/plain": [
       "       1    2    3\n",
       "EUR  NaN  NaN  NaN\n",
       "USD  NaN  NaN  NaN\n",
       "AUD  NaN  NaN  NaN"
      ]
     },
     "execution_count": 5,
     "metadata": {},
     "output_type": "execute_result"
    }
   ],
   "source": [
    "df_events = pd.DataFrame(index=['EUR','USD','AUD'],columns=[1,2,3]) #rows of df\n",
    "#df_events.loc[:,'Mar23']=pd.Series([1,2,3],index=df_events.index)\n",
    "#df_events.loc[:,'Mar24']=pd.Series([2,3,4],index=df_events.index)\n",
    "df_events"
   ]
  },
  {
   "cell_type": "markdown",
   "metadata": {},
   "source": [
    "Fill in hr columns"
   ]
  },
  {
   "cell_type": "code",
   "execution_count": 6,
   "metadata": {},
   "outputs": [
    {
     "data": {
      "text/html": [
       "<div>\n",
       "<style scoped>\n",
       "    .dataframe tbody tr th:only-of-type {\n",
       "        vertical-align: middle;\n",
       "    }\n",
       "\n",
       "    .dataframe tbody tr th {\n",
       "        vertical-align: top;\n",
       "    }\n",
       "\n",
       "    .dataframe thead th {\n",
       "        text-align: right;\n",
       "    }\n",
       "</style>\n",
       "<table border=\"1\" class=\"dataframe\">\n",
       "  <thead>\n",
       "    <tr style=\"text-align: right;\">\n",
       "      <th></th>\n",
       "      <th>0</th>\n",
       "      <th>1</th>\n",
       "      <th>2</th>\n",
       "      <th>3</th>\n",
       "      <th>4</th>\n",
       "      <th>5</th>\n",
       "      <th>6</th>\n",
       "      <th>7</th>\n",
       "      <th>8</th>\n",
       "      <th>9</th>\n",
       "      <th>...</th>\n",
       "      <th>14</th>\n",
       "      <th>15</th>\n",
       "      <th>16</th>\n",
       "      <th>17</th>\n",
       "      <th>18</th>\n",
       "      <th>19</th>\n",
       "      <th>20</th>\n",
       "      <th>21</th>\n",
       "      <th>22</th>\n",
       "      <th>23</th>\n",
       "    </tr>\n",
       "  </thead>\n",
       "  <tbody>\n",
       "    <tr>\n",
       "      <td>Mar23.2020</td>\n",
       "      <td>{CAD, USD, EUR}</td>\n",
       "      <td>NaN</td>\n",
       "      <td>NaN</td>\n",
       "      <td>NaN</td>\n",
       "      <td>NaN</td>\n",
       "      <td>NaN</td>\n",
       "      <td>NaN</td>\n",
       "      <td>NaN</td>\n",
       "      <td>NaN</td>\n",
       "      <td>NaN</td>\n",
       "      <td>...</td>\n",
       "      <td>NaN</td>\n",
       "      <td>NaN</td>\n",
       "      <td>NaN</td>\n",
       "      <td>NaN</td>\n",
       "      <td>NaN</td>\n",
       "      <td>NaN</td>\n",
       "      <td>NaN</td>\n",
       "      <td>NaN</td>\n",
       "      <td>NaN</td>\n",
       "      <td>NaN</td>\n",
       "    </tr>\n",
       "    <tr>\n",
       "      <td>Mar24.2020</td>\n",
       "      <td>NaN</td>\n",
       "      <td>NaN</td>\n",
       "      <td>NaN</td>\n",
       "      <td>NaN</td>\n",
       "      <td>NaN</td>\n",
       "      <td>NaN</td>\n",
       "      <td>NaN</td>\n",
       "      <td>NaN</td>\n",
       "      <td>NaN</td>\n",
       "      <td>NaN</td>\n",
       "      <td>...</td>\n",
       "      <td>NaN</td>\n",
       "      <td>NaN</td>\n",
       "      <td>NaN</td>\n",
       "      <td>NaN</td>\n",
       "      <td>NaN</td>\n",
       "      <td>NaN</td>\n",
       "      <td>NaN</td>\n",
       "      <td>NaN</td>\n",
       "      <td>NaN</td>\n",
       "      <td>NaN</td>\n",
       "    </tr>\n",
       "    <tr>\n",
       "      <td>Mar25.2020</td>\n",
       "      <td>NaN</td>\n",
       "      <td>NaN</td>\n",
       "      <td>NaN</td>\n",
       "      <td>NaN</td>\n",
       "      <td>NaN</td>\n",
       "      <td>NaN</td>\n",
       "      <td>NaN</td>\n",
       "      <td>NaN</td>\n",
       "      <td>NaN</td>\n",
       "      <td>NaN</td>\n",
       "      <td>...</td>\n",
       "      <td>NaN</td>\n",
       "      <td>NaN</td>\n",
       "      <td>NaN</td>\n",
       "      <td>NaN</td>\n",
       "      <td>NaN</td>\n",
       "      <td>NaN</td>\n",
       "      <td>NaN</td>\n",
       "      <td>NaN</td>\n",
       "      <td>NaN</td>\n",
       "      <td>NaN</td>\n",
       "    </tr>\n",
       "  </tbody>\n",
       "</table>\n",
       "<p>3 rows × 24 columns</p>\n",
       "</div>"
      ],
      "text/plain": [
       "                         0    1    2    3    4    5    6    7    8    9   ...  \\\n",
       "Mar23.2020  {CAD, USD, EUR}  NaN  NaN  NaN  NaN  NaN  NaN  NaN  NaN  NaN  ...   \n",
       "Mar24.2020              NaN  NaN  NaN  NaN  NaN  NaN  NaN  NaN  NaN  NaN  ...   \n",
       "Mar25.2020              NaN  NaN  NaN  NaN  NaN  NaN  NaN  NaN  NaN  NaN  ...   \n",
       "\n",
       "             14   15   16   17   18   19   20   21   22   23  \n",
       "Mar23.2020  NaN  NaN  NaN  NaN  NaN  NaN  NaN  NaN  NaN  NaN  \n",
       "Mar24.2020  NaN  NaN  NaN  NaN  NaN  NaN  NaN  NaN  NaN  NaN  \n",
       "Mar25.2020  NaN  NaN  NaN  NaN  NaN  NaN  NaN  NaN  NaN  NaN  \n",
       "\n",
       "[3 rows x 24 columns]"
      ]
     },
     "execution_count": 6,
     "metadata": {},
     "output_type": "execute_result"
    }
   ],
   "source": [
    "df_events = pd.DataFrame(index=['Mar23.2020','Mar24.2020','Mar25.2020'],columns=pd.Series(range(0,24))) #rows of df\n",
    "df_events.loc['Mar23.2020'][0]={'USD','EUR','CAD'}\n",
    "df_events"
   ]
  },
  {
   "cell_type": "code",
   "execution_count": 7,
   "metadata": {},
   "outputs": [
    {
     "name": "stdout",
     "output_type": "stream",
     "text": [
      "              0    1    2\n",
      "Mar23.2020  USD  NaN  NaN\n",
      "Mar24.2020  NaN  NaN  NaN\n",
      "Mar25.2020  NaN  NaN  NaN\n",
      "                  0    1    2\n",
      "Mar23.2020  USD,CAD  NaN  NaN\n",
      "Mar24.2020      NaN  NaN  NaN\n",
      "Mar25.2020      NaN  NaN  NaN\n",
      "                      0    1    2\n",
      "Mar23.2020  USD,CAD,NZD  NaN  NaN\n",
      "Mar24.2020          NaN  NaN  NaN\n",
      "Mar25.2020          NaN  NaN  NaN\n"
     ]
    }
   ],
   "source": [
    "df_test = pd.DataFrame(index=['Mar23.2020','Mar24.2020','Mar25.2020'],columns=pd.Series(range(0,3))) #rows of df\n",
    "my_str='USD'\n",
    "df_test.at['Mar23.2020',0]=my_str\n",
    "print( df_test )\n",
    "my_str=my_str+',CAD'\n",
    "df_test.at['Mar23.2020',0]=my_str\n",
    "print(df_test)\n",
    "my_str=my_str+','+'NZD'\n",
    "df_test.at['Mar23.2020',0]=my_str\n",
    "print(df_test)"
   ]
  },
  {
   "cell_type": "code",
   "execution_count": 8,
   "metadata": {},
   "outputs": [
    {
     "name": "stdout",
     "output_type": "stream",
     "text": [
      "USD\n",
      "CAD\n",
      "NZD\n"
     ]
    }
   ],
   "source": [
    "#is it relatively easy to loop over this type of data?\n",
    "for ii in str.split(df_test.loc['Mar23.2020',0],','):\n",
    "    print(ii)"
   ]
  },
  {
   "cell_type": "code",
   "execution_count": 9,
   "metadata": {},
   "outputs": [
    {
     "name": "stdout",
     "output_type": "stream",
     "text": [
      "no element yet, NaN\n"
     ]
    }
   ],
   "source": [
    "if( pd.isna(df_test.loc['Mar24.2020',0]) ):\n",
    "    print(\"no element yet, NaN\")\n",
    "else:\n",
    "    for ii in str.split(df_test.loc['Mar24.2020',0],','):\n",
    "        print(ii)"
   ]
  },
  {
   "cell_type": "markdown",
   "metadata": {},
   "source": [
    "Set up a loop and make all the columns"
   ]
  },
  {
   "cell_type": "code",
   "execution_count": 12,
   "metadata": {},
   "outputs": [
    {
     "ename": "TooManyRedirects",
     "evalue": "Exceeded 30 redirects.",
     "output_type": "error",
     "traceback": [
      "\u001b[1;31m---------------------------------------------------------------------------\u001b[0m",
      "\u001b[1;31mTooManyRedirects\u001b[0m                          Traceback (most recent call last)",
      "\u001b[1;32m<ipython-input-12-7bd4ab28c55d>\u001b[0m in \u001b[0;36m<module>\u001b[1;34m\u001b[0m\n\u001b[0;32m      1\u001b[0m \u001b[1;32mimport\u001b[0m \u001b[0mrequests\u001b[0m\u001b[1;33m\u001b[0m\u001b[1;33m\u001b[0m\u001b[0m\n\u001b[0;32m      2\u001b[0m \u001b[1;32mfrom\u001b[0m \u001b[0mbs4\u001b[0m \u001b[1;32mimport\u001b[0m \u001b[0mBeautifulSoup\u001b[0m\u001b[1;33m\u001b[0m\u001b[1;33m\u001b[0m\u001b[0m\n\u001b[1;32m----> 3\u001b[1;33m \u001b[0mpage\u001b[0m \u001b[1;33m=\u001b[0m \u001b[0mrequests\u001b[0m\u001b[1;33m.\u001b[0m\u001b[0mget\u001b[0m\u001b[1;33m(\u001b[0m\u001b[1;34m\"https://www.forexfactory.com/calendar?day=Mar22.2020\"\u001b[0m\u001b[1;33m)\u001b[0m \u001b[1;31m#sample page\u001b[0m\u001b[1;33m\u001b[0m\u001b[1;33m\u001b[0m\u001b[0m\n\u001b[0m\u001b[0;32m      4\u001b[0m \u001b[0mcontent\u001b[0m \u001b[1;33m=\u001b[0m \u001b[0mpage\u001b[0m\u001b[1;33m.\u001b[0m\u001b[0mcontent\u001b[0m\u001b[1;33m\u001b[0m\u001b[1;33m\u001b[0m\u001b[0m\n\u001b[0;32m      5\u001b[0m \u001b[0msoup\u001b[0m \u001b[1;33m=\u001b[0m \u001b[0mBeautifulSoup\u001b[0m\u001b[1;33m(\u001b[0m\u001b[0mcontent\u001b[0m\u001b[1;33m,\u001b[0m\u001b[1;34m\"html.parser\"\u001b[0m\u001b[1;33m)\u001b[0m\u001b[1;33m\u001b[0m\u001b[1;33m\u001b[0m\u001b[0m\n",
      "\u001b[1;32mC:\\ProgramData\\Anaconda3\\lib\\site-packages\\requests\\api.py\u001b[0m in \u001b[0;36mget\u001b[1;34m(url, params, **kwargs)\u001b[0m\n\u001b[0;32m     73\u001b[0m \u001b[1;33m\u001b[0m\u001b[0m\n\u001b[0;32m     74\u001b[0m     \u001b[0mkwargs\u001b[0m\u001b[1;33m.\u001b[0m\u001b[0msetdefault\u001b[0m\u001b[1;33m(\u001b[0m\u001b[1;34m'allow_redirects'\u001b[0m\u001b[1;33m,\u001b[0m \u001b[1;32mTrue\u001b[0m\u001b[1;33m)\u001b[0m\u001b[1;33m\u001b[0m\u001b[1;33m\u001b[0m\u001b[0m\n\u001b[1;32m---> 75\u001b[1;33m     \u001b[1;32mreturn\u001b[0m \u001b[0mrequest\u001b[0m\u001b[1;33m(\u001b[0m\u001b[1;34m'get'\u001b[0m\u001b[1;33m,\u001b[0m \u001b[0murl\u001b[0m\u001b[1;33m,\u001b[0m \u001b[0mparams\u001b[0m\u001b[1;33m=\u001b[0m\u001b[0mparams\u001b[0m\u001b[1;33m,\u001b[0m \u001b[1;33m**\u001b[0m\u001b[0mkwargs\u001b[0m\u001b[1;33m)\u001b[0m\u001b[1;33m\u001b[0m\u001b[1;33m\u001b[0m\u001b[0m\n\u001b[0m\u001b[0;32m     76\u001b[0m \u001b[1;33m\u001b[0m\u001b[0m\n\u001b[0;32m     77\u001b[0m \u001b[1;33m\u001b[0m\u001b[0m\n",
      "\u001b[1;32mC:\\ProgramData\\Anaconda3\\lib\\site-packages\\requests\\api.py\u001b[0m in \u001b[0;36mrequest\u001b[1;34m(method, url, **kwargs)\u001b[0m\n\u001b[0;32m     58\u001b[0m     \u001b[1;31m# cases, and look like a memory leak in others.\u001b[0m\u001b[1;33m\u001b[0m\u001b[1;33m\u001b[0m\u001b[1;33m\u001b[0m\u001b[0m\n\u001b[0;32m     59\u001b[0m     \u001b[1;32mwith\u001b[0m \u001b[0msessions\u001b[0m\u001b[1;33m.\u001b[0m\u001b[0mSession\u001b[0m\u001b[1;33m(\u001b[0m\u001b[1;33m)\u001b[0m \u001b[1;32mas\u001b[0m \u001b[0msession\u001b[0m\u001b[1;33m:\u001b[0m\u001b[1;33m\u001b[0m\u001b[1;33m\u001b[0m\u001b[0m\n\u001b[1;32m---> 60\u001b[1;33m         \u001b[1;32mreturn\u001b[0m \u001b[0msession\u001b[0m\u001b[1;33m.\u001b[0m\u001b[0mrequest\u001b[0m\u001b[1;33m(\u001b[0m\u001b[0mmethod\u001b[0m\u001b[1;33m=\u001b[0m\u001b[0mmethod\u001b[0m\u001b[1;33m,\u001b[0m \u001b[0murl\u001b[0m\u001b[1;33m=\u001b[0m\u001b[0murl\u001b[0m\u001b[1;33m,\u001b[0m \u001b[1;33m**\u001b[0m\u001b[0mkwargs\u001b[0m\u001b[1;33m)\u001b[0m\u001b[1;33m\u001b[0m\u001b[1;33m\u001b[0m\u001b[0m\n\u001b[0m\u001b[0;32m     61\u001b[0m \u001b[1;33m\u001b[0m\u001b[0m\n\u001b[0;32m     62\u001b[0m \u001b[1;33m\u001b[0m\u001b[0m\n",
      "\u001b[1;32mC:\\ProgramData\\Anaconda3\\lib\\site-packages\\requests\\sessions.py\u001b[0m in \u001b[0;36mrequest\u001b[1;34m(self, method, url, params, data, headers, cookies, files, auth, timeout, allow_redirects, proxies, hooks, stream, verify, cert, json)\u001b[0m\n\u001b[0;32m    531\u001b[0m         }\n\u001b[0;32m    532\u001b[0m         \u001b[0msend_kwargs\u001b[0m\u001b[1;33m.\u001b[0m\u001b[0mupdate\u001b[0m\u001b[1;33m(\u001b[0m\u001b[0msettings\u001b[0m\u001b[1;33m)\u001b[0m\u001b[1;33m\u001b[0m\u001b[1;33m\u001b[0m\u001b[0m\n\u001b[1;32m--> 533\u001b[1;33m         \u001b[0mresp\u001b[0m \u001b[1;33m=\u001b[0m \u001b[0mself\u001b[0m\u001b[1;33m.\u001b[0m\u001b[0msend\u001b[0m\u001b[1;33m(\u001b[0m\u001b[0mprep\u001b[0m\u001b[1;33m,\u001b[0m \u001b[1;33m**\u001b[0m\u001b[0msend_kwargs\u001b[0m\u001b[1;33m)\u001b[0m\u001b[1;33m\u001b[0m\u001b[1;33m\u001b[0m\u001b[0m\n\u001b[0m\u001b[0;32m    534\u001b[0m \u001b[1;33m\u001b[0m\u001b[0m\n\u001b[0;32m    535\u001b[0m         \u001b[1;32mreturn\u001b[0m \u001b[0mresp\u001b[0m\u001b[1;33m\u001b[0m\u001b[1;33m\u001b[0m\u001b[0m\n",
      "\u001b[1;32mC:\\ProgramData\\Anaconda3\\lib\\site-packages\\requests\\sessions.py\u001b[0m in \u001b[0;36msend\u001b[1;34m(self, request, **kwargs)\u001b[0m\n\u001b[0;32m    666\u001b[0m \u001b[1;33m\u001b[0m\u001b[0m\n\u001b[0;32m    667\u001b[0m         \u001b[1;31m# Resolve redirects if allowed.\u001b[0m\u001b[1;33m\u001b[0m\u001b[1;33m\u001b[0m\u001b[1;33m\u001b[0m\u001b[0m\n\u001b[1;32m--> 668\u001b[1;33m         \u001b[0mhistory\u001b[0m \u001b[1;33m=\u001b[0m \u001b[1;33m[\u001b[0m\u001b[0mresp\u001b[0m \u001b[1;32mfor\u001b[0m \u001b[0mresp\u001b[0m \u001b[1;32min\u001b[0m \u001b[0mgen\u001b[0m\u001b[1;33m]\u001b[0m \u001b[1;32mif\u001b[0m \u001b[0mallow_redirects\u001b[0m \u001b[1;32melse\u001b[0m \u001b[1;33m[\u001b[0m\u001b[1;33m]\u001b[0m\u001b[1;33m\u001b[0m\u001b[1;33m\u001b[0m\u001b[0m\n\u001b[0m\u001b[0;32m    669\u001b[0m \u001b[1;33m\u001b[0m\u001b[0m\n\u001b[0;32m    670\u001b[0m         \u001b[1;31m# Shuffle things around if there's history.\u001b[0m\u001b[1;33m\u001b[0m\u001b[1;33m\u001b[0m\u001b[1;33m\u001b[0m\u001b[0m\n",
      "\u001b[1;32mC:\\ProgramData\\Anaconda3\\lib\\site-packages\\requests\\sessions.py\u001b[0m in \u001b[0;36m<listcomp>\u001b[1;34m(.0)\u001b[0m\n\u001b[0;32m    666\u001b[0m \u001b[1;33m\u001b[0m\u001b[0m\n\u001b[0;32m    667\u001b[0m         \u001b[1;31m# Resolve redirects if allowed.\u001b[0m\u001b[1;33m\u001b[0m\u001b[1;33m\u001b[0m\u001b[1;33m\u001b[0m\u001b[0m\n\u001b[1;32m--> 668\u001b[1;33m         \u001b[0mhistory\u001b[0m \u001b[1;33m=\u001b[0m \u001b[1;33m[\u001b[0m\u001b[0mresp\u001b[0m \u001b[1;32mfor\u001b[0m \u001b[0mresp\u001b[0m \u001b[1;32min\u001b[0m \u001b[0mgen\u001b[0m\u001b[1;33m]\u001b[0m \u001b[1;32mif\u001b[0m \u001b[0mallow_redirects\u001b[0m \u001b[1;32melse\u001b[0m \u001b[1;33m[\u001b[0m\u001b[1;33m]\u001b[0m\u001b[1;33m\u001b[0m\u001b[1;33m\u001b[0m\u001b[0m\n\u001b[0m\u001b[0;32m    669\u001b[0m \u001b[1;33m\u001b[0m\u001b[0m\n\u001b[0;32m    670\u001b[0m         \u001b[1;31m# Shuffle things around if there's history.\u001b[0m\u001b[1;33m\u001b[0m\u001b[1;33m\u001b[0m\u001b[1;33m\u001b[0m\u001b[0m\n",
      "\u001b[1;32mC:\\ProgramData\\Anaconda3\\lib\\site-packages\\requests\\sessions.py\u001b[0m in \u001b[0;36mresolve_redirects\u001b[1;34m(self, resp, req, stream, timeout, verify, cert, proxies, yield_requests, **adapter_kwargs)\u001b[0m\n\u001b[0;32m    163\u001b[0m \u001b[1;33m\u001b[0m\u001b[0m\n\u001b[0;32m    164\u001b[0m             \u001b[1;32mif\u001b[0m \u001b[0mlen\u001b[0m\u001b[1;33m(\u001b[0m\u001b[0mresp\u001b[0m\u001b[1;33m.\u001b[0m\u001b[0mhistory\u001b[0m\u001b[1;33m)\u001b[0m \u001b[1;33m>=\u001b[0m \u001b[0mself\u001b[0m\u001b[1;33m.\u001b[0m\u001b[0mmax_redirects\u001b[0m\u001b[1;33m:\u001b[0m\u001b[1;33m\u001b[0m\u001b[1;33m\u001b[0m\u001b[0m\n\u001b[1;32m--> 165\u001b[1;33m                 \u001b[1;32mraise\u001b[0m \u001b[0mTooManyRedirects\u001b[0m\u001b[1;33m(\u001b[0m\u001b[1;34m'Exceeded %s redirects.'\u001b[0m \u001b[1;33m%\u001b[0m \u001b[0mself\u001b[0m\u001b[1;33m.\u001b[0m\u001b[0mmax_redirects\u001b[0m\u001b[1;33m,\u001b[0m \u001b[0mresponse\u001b[0m\u001b[1;33m=\u001b[0m\u001b[0mresp\u001b[0m\u001b[1;33m)\u001b[0m\u001b[1;33m\u001b[0m\u001b[1;33m\u001b[0m\u001b[0m\n\u001b[0m\u001b[0;32m    166\u001b[0m \u001b[1;33m\u001b[0m\u001b[0m\n\u001b[0;32m    167\u001b[0m             \u001b[1;31m# Release the connection back into the pool.\u001b[0m\u001b[1;33m\u001b[0m\u001b[1;33m\u001b[0m\u001b[1;33m\u001b[0m\u001b[0m\n",
      "\u001b[1;31mTooManyRedirects\u001b[0m: Exceeded 30 redirects."
     ]
    }
   ],
   "source": [
    "import requests\n",
    "from bs4 import BeautifulSoup\n",
    "page = requests.get(\"https://www.forexfactory.com/calendar.php?day=Mar22.2020\") #sample page\n",
    "content = page.content\n",
    "soup = BeautifulSoup(content,\"html.parser\")\n",
    "table = soup.find_all(\"tr\",{\"class\":\"calendar_row\"})\n",
    "time=99\n",
    "for item in table:\n",
    "    currency=item.find_all(\"td\", {\"class\":\"calendar__currency\"})[0].text #currency\n",
    "    time_entry=item.find_all(\"td\", {\"class\":\"calendar__time\"})[0].text #time (may have more than one entry)\n",
    "    #if( str.len(time_entry)=0 ):  #empty string for time\n",
    "    #        time_entry=time\n",
    "    \n",
    "    print( \"currency=\"+currency ) #Currency\n",
    "    print( \"time_entry=\",time_entry ) #Time Eastern"
   ]
  },
  {
   "cell_type": "code",
   "execution_count": null,
   "metadata": {},
   "outputs": [],
   "source": [
    "currency.strip('\\n')"
   ]
  },
  {
   "cell_type": "code",
   "execution_count": null,
   "metadata": {},
   "outputs": [],
   "source": [
    "import requests\n",
    "from bs4 import BeautifulSoup\n",
    "page = requests.get(\"https://www.forexfactory.com/calendar.php?day=Mar25.2020\") #sample page\n",
    "content = page.content\n",
    "soup = BeautifulSoup(content,\"html.parser\")\n",
    "table = soup.find_all(\"tr\",{\"class\":\"calendar_row\"})\n",
    "time=99\n",
    "for item in table[0:2]:\n",
    "#for item in table:\n",
    "    currency=item.find_all(\"td\", {\"class\":\"calendar__currency\"})[0].text #currency\n",
    "    currency=currency.strip('\\n') #removes both front and back \\n \n",
    "    time_entry=item.find_all(\"td\", {\"class\":\"calendar__time\"})[0].text #time (may have more than one entry)\n",
    "    if( len(time_entry)==0 ):  #empty string for time\n",
    "        time_entry=time #previous time\n",
    "        #print(\"boom0\")\n",
    "    time=time_entry\n",
    "    print(\"currency=\",currency)\n",
    "    #print( \"currency=\"+currency ) #Currency\n",
    "    print( \"time_entry=\",time_entry ) #Time Eastern"
   ]
  },
  {
   "cell_type": "markdown",
   "metadata": {},
   "source": [
    "we'll need a function to translate time into 24hr cycle"
   ]
  },
  {
   "cell_type": "code",
   "execution_count": null,
   "metadata": {},
   "outputs": [],
   "source": [
    "print(type(time_entry))"
   ]
  },
  {
   "cell_type": "code",
   "execution_count": null,
   "metadata": {},
   "outputs": [],
   "source": [
    "def conv_ampm_to_twentyFourHrString(string1):\n",
    "    \"\"\"Converts 12hr time to 24hr time, e.g. 11:00pm-->23:00,11:00am-->11:00\"\"\"\n",
    "    conv_t=0\n",
    "    if( \"am\" in string1  ): #am\n",
    "        conv_t=string1[0:len(string1)-2]\n",
    "    elif( \"pm\" in string1  ): #pm\n",
    "        starthr=int(string1.split(':')[0])\n",
    "        if(starthr==12):\n",
    "            conv_t=string1.strip('pm') #grab 12:00pm as 12:00\n",
    "        else:\n",
    "            conv_t=str(starthr+12)+\":\"+string1.split(':')[1]#+12hr for any other pm time\n",
    "            conv_t=conv_t.strip('pm')\n",
    "    else:  #\n",
    "        raise ValueError('am or pm time not provided to conv_to_twentyFourHr')\n",
    "    return conv_t"
   ]
  },
  {
   "cell_type": "code",
   "execution_count": null,
   "metadata": {},
   "outputs": [],
   "source": [
    "print( conv_ampm_to_twentyFourHrString(\"12:00am\") )"
   ]
  },
  {
   "cell_type": "markdown",
   "metadata": {},
   "source": [
    "Perform our analysis "
   ]
  },
  {
   "cell_type": "code",
   "execution_count": null,
   "metadata": {},
   "outputs": [],
   "source": [
    "curr = []\n",
    "times = []\n",
    "for item in table:\n",
    "    currency=item.find_all(\"td\", {\"class\":\"calendar__currency\"})[0].text #currency\n",
    "    currency=currency.strip('\\n') #removes both front and back \\n \n",
    "    time_entry=item.find_all(\"td\", {\"class\":\"calendar__time\"})[0].text #time (may have more than one entry)\n",
    "    if( len(time_entry)==0 ):  #empty string for time\n",
    "        time_entry=time #previous time\n",
    "    else:\n",
    "        time=conv_ampm_to_twentyFourHrString(time_entry)\n",
    "    curr.append(currency)\n",
    "    times.append(time)"
   ]
  },
  {
   "cell_type": "code",
   "execution_count": null,
   "metadata": {},
   "outputs": [],
   "source": [
    "df_cal = pd.DataFrame([times,curr])\n",
    "print(df_cal)\n",
    "df_cal = df_cal.transpose()\n",
    "print(df_cal)"
   ]
  },
  {
   "cell_type": "code",
   "execution_count": null,
   "metadata": {},
   "outputs": [],
   "source": [
    "print(df_cal.iloc[0,0])\n",
    "print(df_cal.iloc[1,0])"
   ]
  },
  {
   "cell_type": "code",
   "execution_count": null,
   "metadata": {},
   "outputs": [],
   "source": [
    "df_events = pd.DataFrame(index=['Mar23.2020','Mar24.2020','Mar25.2020'],columns=pd.Series(range(0,24))) #rows of df\n",
    "print(df_events)"
   ]
  },
  {
   "cell_type": "code",
   "execution_count": null,
   "metadata": {},
   "outputs": [],
   "source": [
    "for ii in df_cal.iloc[:,0]: #loop over times column in df\n",
    "    print(ii)\n",
    "    hr_rd=int(ii.split(':')[0])\n",
    "    print(hr_rd)"
   ]
  },
  {
   "cell_type": "code",
   "execution_count": null,
   "metadata": {},
   "outputs": [],
   "source": [
    "print(df_cal)"
   ]
  },
  {
   "cell_type": "code",
   "execution_count": null,
   "metadata": {},
   "outputs": [],
   "source": [
    "print(df_cal.iloc[3][1])\n",
    "print(type(df_events.at['Mar25.2020',3]))"
   ]
  },
  {
   "cell_type": "code",
   "execution_count": null,
   "metadata": {},
   "outputs": [],
   "source": [
    "df_test = pd.DataFrame(index=['Mar23.2020','Mar24.2020','Mar25.2020'],columns=pd.Series(range(0,24)))\n",
    "print(df_events)\n",
    "print( pd.isna(df_events.at['Mar25.2020',2]) )"
   ]
  },
  {
   "cell_type": "markdown",
   "metadata": {},
   "source": [
    "Lets define a function to access the dateframe at a particular hour and spit out the currencies with an event"
   ]
  },
  {
   "cell_type": "code",
   "execution_count": null,
   "metadata": {},
   "outputs": [],
   "source": [
    "def check_econCal_curr(check_df,check_date,check_hr):\n",
    "    \"\"\"Check dataframe of ecnomic calendar events for relevant currencies. \\n\n",
    "       Returns a list of currencies at specified check_date,check_hr from check_df\"\"\"\n",
    "    thecurr = []\n",
    "    if check_date in check_df.index: #if index exists\n",
    "        if( pd.isna(check_df.loc[check_date,check_hr])==False ):#access index,time for event\n",
    "            for cc in str.split(check_df.loc[check_date,check_hr],','):\n",
    "                thecurr.append(cc)\n",
    "    else:\n",
    "        raise ValueError('The dataframe does not have an index '+check_date)\n",
    "    return thecurr"
   ]
  },
  {
   "cell_type": "code",
   "execution_count": null,
   "metadata": {},
   "outputs": [],
   "source": [
    "a=check_econCal_curr(df_test,'Mar23.2020',0)\n",
    "print(a)\n",
    "print(type(a))"
   ]
  },
  {
   "cell_type": "code",
   "execution_count": null,
   "metadata": {},
   "outputs": [],
   "source": [
    "?check_econCal_curr"
   ]
  },
  {
   "cell_type": "code",
   "execution_count": null,
   "metadata": {},
   "outputs": [],
   "source": [
    "m_table = pd.Series( {'Jan':1,'Feb':2,'Mar':3,'Apr':4,'May':5,'June':6,'Jul':7,'Aug':8,'Sep':9,'Oct':10,'Nov':11,'Dec':12} )\n",
    "#m_strTable\n",
    "print(m_table)\n",
    "m_table['Jan']"
   ]
  },
  {
   "cell_type": "code",
   "execution_count": null,
   "metadata": {},
   "outputs": [],
   "source": [
    "m_table = pd.Series( {1:'Jan',2:'Feb',3:'Mar',4:'Apr',5:'May',6:'June',7:'Jul',8:'Aug',9:'Sep',10:'Oct',11:'Nov',12:'Dec'} )\n",
    "#m_strTable\n",
    "print(m_table)\n",
    "print(m_table[2][:])#accesses month string\n",
    "a=m_table[3][:]+'23.2020'\n",
    "print(a)"
   ]
  },
  {
   "cell_type": "markdown",
   "metadata": {},
   "source": [
    "## function / library development"
   ]
  },
  {
   "cell_type": "markdown",
   "metadata": {},
   "source": [
    "Later on we will want to access a range of calendar dates.  Lets see what type of objects this will entale before we define our dataframe-building functions"
   ]
  },
  {
   "cell_type": "code",
   "execution_count": null,
   "metadata": {},
   "outputs": [],
   "source": [
    "import calendar\n",
    "num_days = calendar.monthrange(2020,1)[1] #gives total number of days in the month\n",
    "print(num_days) "
   ]
  },
  {
   "cell_type": "code",
   "execution_count": null,
   "metadata": {},
   "outputs": [],
   "source": [
    "def monthInt_toStr(m_int):\n",
    "    \"\"\"write string function to convert integer to month string for webpage\"\"\"\n",
    "    m_string = \"\"\n",
    "    if( isinstance(m_int,int) and m_int>=1 and m_int<=12 ):# of integer type\n",
    "        m_table = pd.Series( {1:'Jan',2:'Feb',3:'Mar',4:'Apr',5:'May',6:'June',7:'Jul',8:'Aug',9:'Sep',10:'Oct',11:'Nov',12:'Dec'} )\n",
    "        m_string = m_table[m_int][:]# three-letter month string        \n",
    "    else:\n",
    "        raise ValueError(\"month must be an integer of value 1-12\")\n",
    "    return m_string    "
   ]
  },
  {
   "cell_type": "code",
   "execution_count": null,
   "metadata": {},
   "outputs": [],
   "source": [
    "def webscrape_forexFactory_page(websc_month,websc_day,websc_year):\n",
    "    \"\"\"Scrape www.forexfactory.com/calendar for currency events for a particular day\"\"\"\n",
    "    s=requests.Session()\n",
    "    s.max_redirects = 60\n",
    "    s.headers = {'User-Agent': 'My App'}\n",
    "    websc = monthInt_toStr(websc_month)+str(websc_day)+ '.' +str(websc_year)\n",
    "    webstring=\"https://www.forexfactory.com/calendar.php?day=\"+websc\n",
    "    print(\"webstring=\",webstring)\n",
    "    page = s.get(webstring) #page scraping\n",
    "    content = page.content\n",
    "    soup = BeautifulSoup(content,\"html.parser\")\n",
    "    table = soup.find_all(\"tr\",{\"class\":\"calendar_row\"})\n",
    "\n",
    "    curr = []\n",
    "    times = []\n",
    "    timeString=\"\"\n",
    "    for item in table:\n",
    "        currency=item.find_all(\"td\", {\"class\":\"calendar__currency\"})[0].text #currency\n",
    "        currency=currency.strip('\\n') #removes both front and back \\n \n",
    "        currency=currency.replace(\" \",\"\")\n",
    "        time_entry=item.find_all(\"td\", {\"class\":\"calendar__time\"})[0].text #time (may have more than one entry)\n",
    "        #print(\"time_entry=\",time_entry)\n",
    "        #print(\"currency=\",currency)\n",
    "        #print(\"len(currency)=\",len(currency))\n",
    "        #print(\"len(time_entry)=\",len(time_entry))\n",
    "        if( time_entry=='All Day' ):\n",
    "            time_entry='00:00' #All day events at start of day\n",
    "        elif( len(time_entry)==0 and len(currency)>0 ):  #empty string for time\n",
    "            time_entry=timeString #previous time\n",
    "        elif( len(time_entry)>0 and len(currency)>0 ):\n",
    "            time_entry=conv_ampm_to_twentyFourHrString(time_entry)\n",
    "            timeString=time_entry\n",
    "        else:\n",
    "            return #returns none, no events for that day\n",
    "        curr.append(currency)\n",
    "        times.append(time_entry)  \n",
    "    #print(\"final times=\",times)\n",
    "    #print(\"final curr=\",curr)\n",
    "    return pd.DataFrame([times,curr]).transpose()"
   ]
  },
  {
   "cell_type": "code",
   "execution_count": null,
   "metadata": {},
   "outputs": [],
   "source": [
    "#def webscrape_forexFactory_page(websc_month,websc_day,websc_year):\n",
    "    \"\"\"Scrape www.forexfactory.com/calendar for currency events for a particular day\"\"\"\n",
    "    \n",
    "    websc = monthInt_toStr(websc_month)+str(websc_day)+ '.' +str(websc_year)\n",
    "    page = requests.get(\"https://www.forexfactory.com/calendar.php?day=\"+websc) #page scraping\n",
    "    content = page.content\n",
    "    soup = BeautifulSoup(content,\"html.parser\")\n",
    "    table = soup.find_all(\"tr\",{\"class\":\"calendar_row\"})\n",
    "\n",
    "    curr = []\n",
    "    times = []\n",
    "    timeString=\"\"\n",
    "    for item in table:\n",
    "        currency=item.find_all(\"td\", {\"class\":\"calendar__currency\"})[0].text #currency\n",
    "        currency=currency.strip('\\n') #removes both front and back \\n \n",
    "        currency=currency.replace(\" \",\"\")\n",
    "        time_entry=item.find_all(\"td\", {\"class\":\"calendar__time\"})[0].text #time (may have more than one entry)\n",
    "        #print(\"time_entry=\",time_entry)\n",
    "        #print(\"currency=\",currency)\n",
    "        #print(\"len(currency)=\",len(currency))\n",
    "        #print(\"len(time_entry)=\",len(time_entry))\n",
    "        if( time_entry=='All Day' ):\n",
    "            time_entry='00:00' #All day events at start of day\n",
    "        elif( len(time_entry)==0 and len(currency)>0 ):  #empty string for time\n",
    "            time_entry=timeString #previous time\n",
    "        elif( len(time_entry)>0 and len(currency)>0 ):\n",
    "            time_entry=conv_ampm_to_twentyFourHrString(time_entry)\n",
    "            timeString=time_entry\n",
    "        else:\n",
    "            return #returns none, no events for that day\n",
    "        curr.append(currency)\n",
    "        times.append(time_entry)  \n",
    "    #print(\"final times=\",times)\n",
    "    #print(\"final curr=\",curr)\n",
    "    return pd.DataFrame([times,curr]).transpose()"
   ]
  },
  {
   "cell_type": "code",
   "execution_count": null,
   "metadata": {},
   "outputs": [],
   "source": [
    "test_cal=pd.DataFrame()\n",
    "test_cal=webscrape_forexFactory_page(2,5,2018)\n",
    "print(test_cal)\n",
    "print(type(test_cal))"
   ]
  },
  {
   "cell_type": "code",
   "execution_count": null,
   "metadata": {},
   "outputs": [],
   "source": [
    "df_cal = pd.DataFrame([times,curr])\n",
    "print(df_cal)\n",
    "df_cal = df_cal.transpose()\n",
    "print(df_cal)"
   ]
  },
  {
   "cell_type": "code",
   "execution_count": null,
   "metadata": {},
   "outputs": [],
   "source": [
    "         time=99\n",
    "    for item in table:\n",
    "        currency=item.find_all(\"td\", {\"class\":\"calendar__currency\"})[0].text #currency\n",
    "        time_entry=item.find_all(\"td\", {\"class\":\"calendar__time\"})[0].text #time (may have more than one entry)\n",
    "        #if( str.len(time_entry)=0 ):  #empty string for time\n",
    "        #        time_entry=time\n",
    "\n",
    "        print( \"currency=\"+currency ) #Currency\n",
    "        print( \"time_entry=\",time_entry ) #Time Eastern "
   ]
  },
  {
   "cell_type": "code",
   "execution_count": null,
   "metadata": {},
   "outputs": [],
   "source": [
    "print( monthInt_toStr('boom') )"
   ]
  },
  {
   "cell_type": "code",
   "execution_count": null,
   "metadata": {},
   "outputs": [],
   "source": [
    "m_table = pd.Series( {'Jan':1,'Feb':2,'Mar':3,'Apr':4,'May':5,'June':6,'Jul':7,'Aug':8,'Sep':9,'Oct':10,'Nov':11,'Dec':12} )\n",
    "#m_strTable\n",
    "print(m_table)"
   ]
  },
  {
   "cell_type": "code",
   "execution_count": null,
   "metadata": {},
   "outputs": [],
   "source": [
    "a=[]\n",
    "print(len(a))"
   ]
  },
  {
   "cell_type": "code",
   "execution_count": null,
   "metadata": {},
   "outputs": [],
   "source": []
  }
 ],
 "metadata": {
  "kernelspec": {
   "display_name": "Python 3",
   "language": "python",
   "name": "python3"
  },
  "language_info": {
   "codemirror_mode": {
    "name": "ipython",
    "version": 3
   },
   "file_extension": ".py",
   "mimetype": "text/x-python",
   "name": "python",
   "nbconvert_exporter": "python",
   "pygments_lexer": "ipython3",
   "version": "3.7.4"
  }
 },
 "nbformat": 4,
 "nbformat_minor": 2
}
